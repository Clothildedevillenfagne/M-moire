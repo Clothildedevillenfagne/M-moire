{
 "cells": [
  {
   "cell_type": "markdown",
   "metadata": {},
   "source": [
    "# Preliminaries"
   ]
  },
  {
   "cell_type": "code",
   "execution_count": 10,
   "metadata": {},
   "outputs": [],
   "source": [
    "import copy\n",
    "import itertools\n",
    "from collections import defaultdict\n",
    "from operator import itemgetter\n",
    "import folium\n",
    "import numpy as np\n",
    "from folium import plugins\n",
    "from folium.plugins import HeatMap\n",
    "import branca.colormap\n",
    "from collections import defaultdict\n",
    "import folium\n",
    "import pandas as pd\n",
    "from html2image import Html2Image\n",
    "import os\n",
    "import matplotlib.pyplot as plt"
   ]
  },
  {
   "cell_type": "code",
   "execution_count": 2,
   "metadata": {},
   "outputs": [
    {
     "name": "stderr",
     "output_type": "stream",
     "text": [
      "/Users/clothildedevillenfagne/opt/anaconda3/lib/python3.7/site-packages/IPython/core/interactiveshell.py:3444: DtypeWarning: Columns (9,10,14,16,17,37,38,39,40,41,43,44,45,46,48,49) have mixed types.Specify dtype option on import or set low_memory=False.\n",
      "  exec(code_obj, self.user_global_ns, self.user_ns)\n"
     ]
    }
   ],
   "source": [
    "df = pd.read_csv(r'./moyen_data.csv', sep=\"\\t\")"
   ]
  },
  {
   "cell_type": "code",
   "execution_count": 3,
   "metadata": {},
   "outputs": [],
   "source": [
    "new_df = df[df['class']=='Aves']\n",
    "new_df = new_df[['species', 'year', 'month', 'decimalLatitude', 'decimalLongitude', 'individualCount']]"
   ]
  },
  {
   "cell_type": "markdown",
   "metadata": {},
   "source": [
    "# Analyse de la biodiversité"
   ]
  },
  {
   "cell_type": "code",
   "execution_count": 5,
   "metadata": {
    "scrolled": true
   },
   "outputs": [],
   "source": [
    "def ps_for_coo(df):\n",
    "    latitude = df['decimalLatitude'].tolist()\n",
    "    longitude = df['decimalLongitude'].tolist()\n",
    "    coordonee = list(set(tuple(zip(latitude, longitude))))\n",
    "    df_final = pd.DataFrame(index=coordonee)\n",
    "    year = set(df['year'].tolist())\n",
    "    for ye in year:\n",
    "        print('Année : ', ye)\n",
    "        #ye_list = []\n",
    "        data1 = df[df['year']==ye]\n",
    "        latitude = data1['decimalLatitude'].tolist()\n",
    "        longitude = data1['decimalLongitude'].tolist()\n",
    "        coordonee = list(set(tuple(zip(latitude, longitude))))\n",
    "        big_list = []\n",
    "        dim = len(data1)\n",
    "        espece = set(data1['species'].tolist())\n",
    "        for esp in espece:\n",
    "            if pd.isnull(esp)==False:\n",
    "                lst = [0] * len(coordonee)\n",
    "                data2 = data1[data1['species'] == esp].copy()\n",
    "                latitude_esp = data2['decimalLatitude'].tolist()\n",
    "                longitude_esp = data2['decimalLongitude'].tolist()\n",
    "                coordonee_esp = set(tuple(zip(latitude_esp, longitude_esp)))\n",
    "                for coo in coordonee_esp:\n",
    "                    index = coordonee.index(coo)\n",
    "                    lst[index] = 1\n",
    "                big_list.append(lst)\n",
    "\n",
    "        df_prefix_coo = pd.DataFrame(big_list, columns =coordonee)\n",
    "        dico_coo = df_prefix_coo.sum()\n",
    "        df_coo = pd.DataFrame(dico_coo, columns=[ye])\n",
    "    \n",
    "        df_final = pd.concat([df_final, df_coo], axis=1)\n",
    "        \n",
    "    \n",
    "    return df_final "
   ]
  },
  {
   "cell_type": "code",
   "execution_count": null,
   "metadata": {},
   "outputs": [
    {
     "name": "stdout",
     "output_type": "stream",
     "text": [
      "Année :  2000\n",
      "Année :  2001\n",
      "Année :  2002\n",
      "Année :  2003\n",
      "Année :  2004\n",
      "Année :  2005\n",
      "Année :  2006\n",
      "Année :  2007\n",
      "Année :  2008\n",
      "Année :  2009\n",
      "Année :  2010\n",
      "Année :  2011\n",
      "Année :  2012\n",
      "Année :  2013\n",
      "Année :  2014\n",
      "Année :  2015\n",
      "Année :  2016\n",
      "Année :  2017\n",
      "Année :  2018\n",
      "Année :  2019\n",
      "Année :  2020\n",
      "Année :  2021\n"
     ]
    }
   ],
   "source": [
    "res = ps_for_coo(new_df)"
   ]
  },
  {
   "cell_type": "code",
   "execution_count": null,
   "metadata": {},
   "outputs": [],
   "source": [
    "#normalisation des donnée\n",
    "df_max_scaled = res.copy() \n",
    "  \n",
    "for column in df_max_scaled.columns: \n",
    "    df_max_scaled[column] = df_max_scaled[column]  / df_max_scaled[column].abs().max() \n",
    "      \n",
    "display(df_max_scaled)"
   ]
  },
  {
   "cell_type": "markdown",
   "metadata": {},
   "source": [
    "# Analyse de la quantité d'espèce"
   ]
  },
  {
   "cell_type": "code",
   "execution_count": 17,
   "metadata": {},
   "outputs": [
    {
     "data": {
      "image/png": "[encoded data removed]",
      "text/plain": [
       "<Figure size 432x288 with 1 Axes>"
      ]
     },
     "metadata": {
      "needs_background": "light"
     },
     "output_type": "display_data"
    }
   ],
   "source": [
    "year = [2008,2009,2010,2011,2012,2013,2014,2015,2016,2017,2018]\n",
    "sum_ind = []\n",
    "for ye in year:\n",
    "    sum_ind.append(new_df[new_df['year']==ye]['individualCount'].sum()/len(new_df[new_df['year']==ye]))\n",
    "\n",
    "plt.plot(year, sum_ind)\n",
    "plt.xlabel('Temps (Années)')\n",
    "plt.ylabel('Observations (proportion)')\n",
    "plt.savefig('obs_ind.png')"
   ]
  },
  {
   "cell_type": "code",
   "execution_count": null,
   "metadata": {},
   "outputs": [],
   "source": [
    "def ps_for_num(df):\n",
    "    latitude = df['decimalLatitude'].tolist()\n",
    "    longitude = df['decimalLongitude'].tolist()\n",
    "    coordonee = list(set(tuple(zip(latitude, longitude))))\n",
    "    df_final = pd.DataFrame(index=coordonee)\n",
    "    year = set(df['year'].tolist())\n",
    "    for ye in year:\n",
    "        print('Année : ', ye)\n",
    "        data1 = df[df['year']==ye]\n",
    "        latitude = data1['decimalLatitude'].tolist()\n",
    "        longitude = data1['decimalLongitude'].tolist()\n",
    "        coordonee = list(set(tuple(zip(latitude, longitude))))\n",
    "        big_list = []\n",
    "        dim = len(data1)\n",
    "        espece = set(data1['species'].tolist())\n",
    "        for esp in espece:\n",
    "            if pd.isnull(esp)==False:\n",
    "                lst = [0] * len(coordonee)\n",
    "                data2 = data1[data1['species'] == esp].copy()\n",
    "                latitude_esp = data2['decimalLatitude'].tolist()\n",
    "                longitude_esp = data2['decimalLongitude'].tolist()\n",
    "                coordonee_esp = set(tuple(zip(latitude_esp, longitude_esp)))\n",
    "                ind_count = final_df['individualCount'].tolist()\n",
    "                for i in range(len(coordonee_esp)):\n",
    "                    index = coordonee.index(coordonee_esp[i])\n",
    "                    lst[index] += ind_count[i]\n",
    "                big_list.append(lst)\n",
    "\n",
    "        df_prefix_coo = pd.DataFrame(big_list, columns =coordonee)\n",
    "        dico_coo = df_prefix_coo.sum()\n",
    "        df_coo = pd.DataFrame(dico_coo, columns=[ye])\n",
    "        df_final = pd.concat([df_final, df_coo], axis=1)\n",
    "    \n",
    "    return df_final       "
   ]
  },
  {
   "cell_type": "markdown",
   "metadata": {},
   "source": [
    "# Plot carte"
   ]
  },
  {
   "cell_type": "code",
   "execution_count": 63,
   "metadata": {},
   "outputs": [],
   "source": [
    "def map_coo (df, annee):\n",
    "    count = df[annee].tolist()\n",
    "    coo = df.index.tolist()\n",
    "    #coo = test_df['coordonee'].tolist()\n",
    "    #compte = test_df['compte'].tolist()\n",
    "    \n",
    "    loc = [4.35, 50.8333]\n",
    "    mappy = folium.Map(location=[loc[1], loc[0]], zoom_start=8)\n",
    "    heat = []\n",
    "    for i in range(len(coo)):\n",
    "        if pd.isnull(count[i])==False:\n",
    "            value = int(count[i]*2)\n",
    "            for j in range(value):\n",
    "                heat.append(list(coo[i]))\n",
    "    steps=20\n",
    "    colormap = branca.colormap.linear.YlOrRd_09.scale(0, 1).to_step(steps)\n",
    "    gradient_map=defaultdict(dict)\n",
    "    for i in range(steps):\n",
    "        gradient_map[1/steps*i] = colormap.rgb_hex_str(1/steps*i)\n",
    "    colormap.add_to(mappy)\n",
    "    HeatMap(heat,gradient = gradient_map).add_to(mappy)\n",
    "\n",
    "    return mappy"
   ]
  },
  {
   "cell_type": "code",
   "execution_count": null,
   "metadata": {},
   "outputs": [],
   "source": [
    "map(new_df,2018)"
   ]
  }
 ],
 "metadata": {
  "kernelspec": {
   "display_name": "Python 3 (ipykernel)",
   "language": "python",
   "name": "python3"
  },
  "language_info": {
   "codemirror_mode": {
    "name": "ipython",
    "version": 3
   },
   "file_extension": ".py",
   "mimetype": "text/x-python",
   "name": "python",
   "nbconvert_exporter": "python",
   "pygments_lexer": "ipython3",
   "version": "3.7.11"
  }
 },
 "nbformat": 4,
 "nbformat_minor": 1
}
